{
 "cells": [
  {
   "cell_type": "markdown",
   "metadata": {},
   "source": [
    "# 시작하기전에\n",
    "\n",
    "<wikipedia - 객체지향 프로그래밍> \n",
    ">\n",
    "> 객체 지향 프로그래밍(영어: Object-Oriented Programming, OOP)은 컴퓨터 프 로그래밍의 패러다임의 하나이다. 객체 지향 프로그래밍은 컴퓨터 프로그램을 명령어의 목록으로 보는 시각에서 벗어나 여러 개의 독립된 단위, 즉 \"객체\"들의 모임으로 파악하고자 하는 것이다. 각각의 객체는 메시지를 주고받고, 데이터를 처리할 수 있다.\n",
    ">\n",
    "> 명령형 프로그래밍인 절차지향 프로그래밍에서 발전된 형태를 나타내며, 기본 구성요소는 다음과 같다.\n",
    "\n",
    "* 클래스(Class) - 같은 종류(또는 문제 해결을 위한)의 집단에 속하는 속성(attribute)과 행위(behavior)를 정의한 것으로 객체지향 프로그램의 기본적인 사용자 정의 데이터형(user define data type)이라고 할 수 있다. 클래스는 프로그래머가 아니지만 해결해야 할 문제가 속하는 영역에 종사하는 사람이라면 사용할 수 있고, 다른 클래스 또는 외부 요소와 독립적으로 디자인하여야 한다.\n",
    "\n",
    "\n",
    "* 인스턴스 - 클래스의 인스턴스(실제로 메모리상에 할당된 것)이다. 객체는 자신 고유의 속성(attribute)을 가지며 클래스에서 정의한 행위(behavior)를 수행할 수 있다. 객체의 행위는 클래스에 정의된 행위에 대한 정의를 공유함으로써 메모리를 경제적으로 사용한다.\n",
    "\n",
    "\n",
    "* 메서드(Method) - 클래스로부터 생성된 객체를 사용하는 방법으로서 객체에 명령을 내리는 것이라 할 수 있다. 메서드는 한 객체의 속성을 조작하는 데 사용된다."
   ]
  },
  {
   "cell_type": "code",
   "execution_count": 1,
   "metadata": {},
   "outputs": [
    {
     "name": "stdout",
     "output_type": "stream",
     "text": [
      "<class 'complex'>\n"
     ]
    }
   ],
   "source": [
    "# 복소수를 하나 만들어보고, 타입을 출력해봅시다.\n",
    "a = 3 + 4j\n",
    "print(type(a))\n",
    "\n",
    "a : 인스턴스\n",
    "complex 라는 클래스 안에 존재하는 real과 imag 를 a가 불러온다."
   ]
  },
  {
   "cell_type": "code",
   "execution_count": 2,
   "metadata": {},
   "outputs": [
    {
     "name": "stdout",
     "output_type": "stream",
     "text": [
      "3.0 4.0\n"
     ]
    }
   ],
   "source": [
    "# 허수부랑 실수부를 함께 출력해봅시다.\n",
    "print(a.real, a.imag)"
   ]
  },
  {
   "cell_type": "code",
   "execution_count": 3,
   "metadata": {},
   "outputs": [
    {
     "name": "stdout",
     "output_type": "stream",
     "text": [
      "[1, 3, 5]\n",
      "<class 'list'>\n"
     ]
    }
   ],
   "source": [
    "# 리스트를 하나 만들고 정렬해봅시다.\n",
    "L = [5,1,3]\n",
    "L.sort()\n",
    "print(L)\n",
    "print(type(L))\n",
    "\n",
    "sort 메서드\n",
    "list 클래스\n",
    "L 인스턴스\n",
    "\n",
    "*sorte 내장함수"
   ]
  },
  {
   "cell_type": "code",
   "execution_count": null,
   "metadata": {},
   "outputs": [],
   "source": [
    "# 리스트가 할 수 있는 것들을 알아봅시다.\n"
   ]
  },
  {
   "cell_type": "markdown",
   "metadata": {},
   "source": [
    "## 실습 문제\n",
    "\n",
    "> 프로그래밍으로 나와 친구의 이름을 저장해보세요.\n",
    ">\n",
    "\n",
    "**각자의 명함과 지갑을 만들어봅시다.**\n",
    "\n",
    "* 내 생일, 전화번호, 이메일주소 정보를 담은 변수를 확인해봅시다.\n",
    "\n",
    "* 주머니(pocket)에는 돈(won)을 포함하여 현재 가지고 있는 것을 작성해보세요.\n",
    "\n",
    "* 나는 인사를 하면서 내 명함에 있는 정보 하나를 이야기합니다. `greeting` 함수를 만듭시다.\n",
    "\n",
    "* 나는 주머니에 원하는 것과 갯수를 지정하여 넣을 수 있습니다. \n",
    "\n",
    "  기존에 값이 있으면, 갯수를 추가하고 없으면 새로 만드는 `in_my_pocket` 함수를 만듭시다.\n",
    "  \n",
    "**친구의 정보와 지갑도 만들어봅시다.**"
   ]
  },
  {
   "cell_type": "code",
   "execution_count": 84,
   "metadata": {},
   "outputs": [],
   "source": [
    "# 아래에 자유롭게 코드를 작성해보세요.\n",
    "my_name = 'jeong'\n",
    "your_name = 'kim'\n",
    "my_birthday = '222'\n",
    "my_phone = '010111199999'\n",
    "\n",
    "my_pocket ={'won':'15000'}\n",
    "your_pocket = {'won':'10000'}\n",
    "\n",
    "def in_my_pocket(pocket, new_key, new_value):\n",
    "    if new_key not in pocket:\n",
    "        pocket[new_key] = new_value\n",
    "    else:\n",
    "        pocket[new_key] =  int(pocket[new_key]) + new_value\n",
    "    print(pocket)\n",
    "        \n",
    "def greeting(name, phone):\n",
    "    print(f'안녕, 나는 {name}야 내 번호는 {phone}야')"
   ]
  },
  {
   "cell_type": "code",
   "execution_count": 85,
   "metadata": {},
   "outputs": [
    {
     "name": "stdout",
     "output_type": "stream",
     "text": [
      "{'won': 25000}\n",
      "{'won': '10000', 'man': 3000}\n"
     ]
    }
   ],
   "source": [
    "# in_my_pocket 함수를 통해 내 주머니에 내용을 추가해봅시다.\n",
    "in_my_pocket(my_pocket, 'won', 10000)\n",
    "in_my_pocket(your_pocket, 'man', 3000)"
   ]
  },
  {
   "cell_type": "code",
   "execution_count": 81,
   "metadata": {},
   "outputs": [],
   "source": [
    "# greeting 함수를 통해 인사를 해봅시다."
   ]
  },
  {
   "cell_type": "markdown",
   "metadata": {},
   "source": [
    "# 클래스 및 인스턴스"
   ]
  },
  {
   "cell_type": "markdown",
   "metadata": {},
   "source": [
    "## 클래스 객체\n",
    "\n",
    "```python\n",
    "class ClassName:\n",
    "    \n",
    "```\n",
    "\n",
    "* 선언과 동시에 클래스 객체가 생성됨.\n",
    "\n",
    "* 또한, 선언된 공간은 지역 스코프로 사용된다.\n",
    "\n",
    "* 정의된 어트리뷰트 중 변수는 멤버 변수로 불리운다.\n",
    "\n",
    "* 정의된 함수(`def`)는 메서드로 불리운다."
   ]
  },
  {
   "cell_type": "code",
   "execution_count": 87,
   "metadata": {},
   "outputs": [
    {
     "name": "stdout",
     "output_type": "stream",
     "text": [
      "<__main__.Person object at 0x000001EBE61A2F28>\n"
     ]
    }
   ],
   "source": [
    "class Person:   #클래스\n",
    "    pass\n",
    "p = Person()   #인스턴스\n",
    "print(p)            #인스턴스가 메모리에 할당"
   ]
  },
  {
   "cell_type": "code",
   "execution_count": 89,
   "metadata": {},
   "outputs": [],
   "source": [
    "class Person:\n",
    "    name =  '고길동'\n",
    "    def sayhello(self):\n",
    "        print(f'누가 기침소리를 내었는가 앙? {self.name} 너냐?')"
   ]
  },
  {
   "cell_type": "markdown",
   "metadata": {},
   "source": [
    "* 선언시 self는 반드시 작성해주세요! 나중에 설명드립니다."
   ]
  },
  {
   "cell_type": "markdown",
   "metadata": {},
   "source": [
    "## 인스턴스 객체\n",
    "\n",
    "* 인스턴스 객체는 `ClassName()`을 호출함으로써 선언된다.\n",
    "\n",
    "* 인스턴스 객체와 클래스 객체는 서로 다른 이름 공간을 가지고 있다.\n",
    "\n",
    "* 인스턴스 -> 클래스 -> 전역 순으로 탐색을 한다."
   ]
  },
  {
   "cell_type": "code",
   "execution_count": 91,
   "metadata": {},
   "outputs": [],
   "source": [
    "# iu라는 클래스 Person의 인스턴스를 만들어봅시다. \n",
    "iu = Person()"
   ]
  },
  {
   "cell_type": "code",
   "execution_count": 93,
   "metadata": {},
   "outputs": [
    {
     "name": "stdout",
     "output_type": "stream",
     "text": [
      "누가 기침소리를 내었는가 앙? 고길동 너냐?\n"
     ]
    }
   ],
   "source": [
    "# 인사하는 메서드를 호출해봅시다.\n",
    "iu.sayhello()"
   ]
  },
  {
   "cell_type": "code",
   "execution_count": 94,
   "metadata": {
    "scrolled": true
   },
   "outputs": [
    {
     "data": {
      "text/plain": [
       "'고길동'"
      ]
     },
     "execution_count": 94,
     "metadata": {},
     "output_type": "execute_result"
    }
   ],
   "source": [
    "# iu의 이름을 확인해봅시다.\n",
    "iu.name"
   ]
  },
  {
   "cell_type": "code",
   "execution_count": 95,
   "metadata": {},
   "outputs": [
    {
     "data": {
      "text/plain": [
       "'iu'"
      ]
     },
     "execution_count": 95,
     "metadata": {},
     "output_type": "execute_result"
    }
   ],
   "source": [
    "# iu로 이름을 바꿔주세요.\n",
    "iu.name = 'iu'\n",
    "iu.name"
   ]
  },
  {
   "cell_type": "code",
   "execution_count": 96,
   "metadata": {},
   "outputs": [
    {
     "name": "stdout",
     "output_type": "stream",
     "text": [
      "누가 기침소리를 내었는가 앙? iu 너냐?\n"
     ]
    }
   ],
   "source": [
    "# iu가 인사를 합니다.\n",
    "iu.sayhello()"
   ]
  },
  {
   "cell_type": "code",
   "execution_count": 97,
   "metadata": {},
   "outputs": [
    {
     "data": {
      "text/plain": [
       "True"
      ]
     },
     "execution_count": 97,
     "metadata": {},
     "output_type": "execute_result"
    }
   ],
   "source": [
    "# iu와 Person이 같은지 확인해보겠습니다.\n",
    "#class - 붕어빵 틀 instance - 붕어빵\n",
    "isinstance(iu, Person)          #iu가 Person의  instance인가?"
   ]
  },
  {
   "cell_type": "code",
   "execution_count": 101,
   "metadata": {},
   "outputs": [
    {
     "data": {
      "text/plain": [
       "<__main__.Person at 0x1ebe63ac710>"
      ]
     },
     "execution_count": 101,
     "metadata": {},
     "output_type": "execute_result"
    }
   ],
   "source": [
    "# iu를 출력해봅시다.\n",
    "iu"
   ]
  },
  {
   "cell_type": "code",
   "execution_count": 102,
   "metadata": {},
   "outputs": [
    {
     "name": "stdout",
     "output_type": "stream",
     "text": [
      "<__main__.Person object at 0x000001EBE63AC710>\n"
     ]
    }
   ],
   "source": [
    "# iu를 출력해봅시다 2.\n",
    "print(iu)"
   ]
  },
  {
   "cell_type": "code",
   "execution_count": 104,
   "metadata": {},
   "outputs": [
    {
     "name": "stdout",
     "output_type": "stream",
     "text": [
      "<map object at 0x000001EBE6355A90>\n"
     ]
    }
   ],
   "source": [
    "# map을 만들어 비교해 봅시다.\n",
    "print(map(int, '123'))"
   ]
  },
  {
   "cell_type": "code",
   "execution_count": 107,
   "metadata": {},
   "outputs": [
    {
     "data": {
      "text/plain": [
       "(1, 2)"
      ]
     },
     "execution_count": 107,
     "metadata": {},
     "output_type": "execute_result"
    }
   ],
   "source": [
    "a = (1, 2)  #a는  tuple 클래스의 인스턴스\n",
    "a"
   ]
  },
  {
   "cell_type": "code",
   "execution_count": 109,
   "metadata": {},
   "outputs": [
    {
     "data": {
      "text/plain": [
       "{'x': 11, 'y': 22}"
      ]
     },
     "execution_count": 109,
     "metadata": {},
     "output_type": "execute_result"
    }
   ],
   "source": [
    "b  = dict(x=11, y=22) #b는  dictionary 클래스의 인스턴스\n",
    "b"
   ]
  },
  {
   "cell_type": "code",
   "execution_count": 111,
   "metadata": {},
   "outputs": [
    {
     "data": {
      "text/plain": [
       "[0, 1, 2, 3, 4, 5, 6, 7, 8, 9, 100]"
      ]
     },
     "execution_count": 111,
     "metadata": {},
     "output_type": "execute_result"
    }
   ],
   "source": [
    "c = list(range(10))   #a는  list 클래스의 인스턴스\n",
    "c.append(100)         #리스트가 가지고 있는 메서드 append를 사용\n",
    "c"
   ]
  },
  {
   "cell_type": "code",
   "execution_count": 113,
   "metadata": {},
   "outputs": [
    {
     "name": "stdout",
     "output_type": "stream",
     "text": [
      "<class 'tuple'>\n",
      "<class 'dict'>\n",
      "<class 'list'>\n"
     ]
    }
   ],
   "source": [
    "print(type(a))   #자주 쓰는  클래스들은 소문자로 해놨음\n",
    "print(type(b))\n",
    "print(type(c))"
   ]
  },
  {
   "cell_type": "code",
   "execution_count": 114,
   "metadata": {},
   "outputs": [],
   "source": [
    "class Person:\n",
    "    name =  '고길동'\n",
    "    def sayhello():\n",
    "        print(f'누가 기침소리를 내었는가 앙? {name} 너냐?')"
   ]
  },
  {
   "cell_type": "code",
   "execution_count": 115,
   "metadata": {},
   "outputs": [
    {
     "ename": "TypeError",
     "evalue": "sayhello() takes 0 positional arguments but 1 was given",
     "output_type": "error",
     "traceback": [
      "\u001b[1;31m---------------------------------------------------------------------------\u001b[0m",
      "\u001b[1;31mTypeError\u001b[0m                                 Traceback (most recent call last)",
      "\u001b[1;32m<ipython-input-115-6c0f05ea1a14>\u001b[0m in \u001b[0;36m<module>\u001b[1;34m\u001b[0m\n\u001b[0;32m      1\u001b[0m \u001b[0miu\u001b[0m \u001b[1;33m=\u001b[0m \u001b[0mPerson\u001b[0m\u001b[1;33m(\u001b[0m\u001b[1;33m)\u001b[0m\u001b[1;33m\u001b[0m\u001b[1;33m\u001b[0m\u001b[0m\n\u001b[1;32m----> 2\u001b[1;33m \u001b[0miu\u001b[0m\u001b[1;33m.\u001b[0m\u001b[0msayhello\u001b[0m\u001b[1;33m(\u001b[0m\u001b[1;33m)\u001b[0m\u001b[1;33m\u001b[0m\u001b[1;33m\u001b[0m\u001b[0m\n\u001b[0m",
      "\u001b[1;31mTypeError\u001b[0m: sayhello() takes 0 positional arguments but 1 was given"
     ]
    }
   ],
   "source": [
    "iu = Person()\n",
    "iu.sayhello()\n",
    "# 풀어쓰면 Person.sayhello(iu) 형식으로 동작\n",
    "#def sayhello(): 매개변수가 없으므로  작동되지 않는다.\n",
    "\n",
    "#def sayhello(self):  인스턴스 자기자신인 self 를 써 줘야 작동한다."
   ]
  },
  {
   "cell_type": "markdown",
   "metadata": {},
   "source": [
    "## 실습 문제 발전\n",
    "\n",
    "> 지금까지 배운 것을 통해서 Person 클래스를 만들고, 친구와 나를 표현해봅시다.\n",
    ">\n",
    "> 주머니와 정보를 가지고 있고 (멤버 변수)\n",
    "> \n",
    "> 인사(`greeting()`)와 주머니에 내용을 추가(`in_my_pocket()`)할 수 있습니다. (메서드)\n",
    ">\n",
    "> 추가적으로 `get_my_pocket()`으로 지갑에 담긴 정보를 가져와 봅시다."
   ]
  },
  {
   "cell_type": "code",
   "execution_count": 116,
   "metadata": {},
   "outputs": [],
   "source": [
    "# 아래에 코드를 작성해주세요.    \n",
    "\n",
    "name = 'kim'\n",
    "phone = '010111199999'\n",
    "\n",
    "pocket ={'won':'500', 'phone':1, 'candy': 5}\n",
    "\n",
    "def in_my_pocket(pocket, new_key, new_value):\n",
    "    if new_key not in pocket:\n",
    "        pocket[new_key] = new_value\n",
    "    else:\n",
    "        pocket[new_key] =  int(pocket[new_key]) + new_value\n",
    "    print(pocket)\n",
    "        \n",
    "def greeting(name, phone):\n",
    "    print(f'안녕, 나는 {name}야 내 번호는 {phone}야')\n",
    "    \n",
    "def get_my_pocket"
   ]
  },
  {
   "cell_type": "code",
   "execution_count": 182,
   "metadata": {},
   "outputs": [],
   "source": [
    "class Person():              #함수에서는  self를 항상 첫 인자로 받아온다.\n",
    "    name = 'kim'\n",
    "    phone = '010111199999'\n",
    "    pocket ={'won':'500', 'phone':1, 'candy': 5}\n",
    "    def in_my_pocket(self, new_key, new_value):\n",
    "        if new_key not in self.pocket:\n",
    "            self.pocket[new_key] = new_value\n",
    "        else:\n",
    "            self.pocket[new_key] =  int(self.pocket[new_key]) + new_value\n",
    "        return self.pocket\n",
    "        \n",
    "    def greeting(self):\n",
    "        print(f'안녕, 나는 {self.name}야 내 번호는 {self.phone}야')   # 자기자신(정의된 값)을 가져올 때  self 사용\n",
    "    \n",
    "    def get_my_pocket(self):\n",
    "        return self.pocket"
   ]
  },
  {
   "cell_type": "code",
   "execution_count": 183,
   "metadata": {},
   "outputs": [],
   "source": [
    "# 나를 만들어 봅시다.\n",
    "me = Person()"
   ]
  },
  {
   "cell_type": "code",
   "execution_count": 184,
   "metadata": {},
   "outputs": [
    {
     "name": "stdout",
     "output_type": "stream",
     "text": [
      "안녕, 나는 kim야 내 번호는 010111199999야\n"
     ]
    }
   ],
   "source": [
    "me.greeting()"
   ]
  },
  {
   "cell_type": "code",
   "execution_count": 185,
   "metadata": {},
   "outputs": [
    {
     "data": {
      "text/plain": [
       "{'won': '500', 'phone': 1, 'candy': 5}"
      ]
     },
     "execution_count": 185,
     "metadata": {},
     "output_type": "execute_result"
    }
   ],
   "source": [
    "me.get_my_pocket()"
   ]
  },
  {
   "cell_type": "code",
   "execution_count": 186,
   "metadata": {},
   "outputs": [
    {
     "data": {
      "text/plain": [
       "{'won': '500', 'phone': 1, 'candy': 5, 'pen': 3000}"
      ]
     },
     "execution_count": 186,
     "metadata": {},
     "output_type": "execute_result"
    }
   ],
   "source": [
    "me.in_my_pocket('pen', 3000)"
   ]
  },
  {
   "cell_type": "code",
   "execution_count": 187,
   "metadata": {},
   "outputs": [
    {
     "data": {
      "text/plain": [
       "{'won': 3500, 'phone': 1, 'candy': 5, 'pen': 3000}"
      ]
     },
     "execution_count": 187,
     "metadata": {},
     "output_type": "execute_result"
    }
   ],
   "source": [
    "me.in_my_pocket('won', 3000)"
   ]
  }
 ],
 "metadata": {
  "kernelspec": {
   "display_name": "Python 3",
   "language": "python",
   "name": "python3"
  },
  "language_info": {
   "codemirror_mode": {
    "name": "ipython",
    "version": 3
   },
   "file_extension": ".py",
   "mimetype": "text/x-python",
   "name": "python",
   "nbconvert_exporter": "python",
   "pygments_lexer": "ipython3",
   "version": "3.6.7"
  },
  "latex_envs": {
   "LaTeX_envs_menu_present": true,
   "autoclose": false,
   "autocomplete": true,
   "bibliofile": "biblio.bib",
   "cite_by": "apalike",
   "current_citInitial": 1,
   "eqLabelWithNumbers": true,
   "eqNumInitial": 1,
   "hotkeys": {
    "equation": "Ctrl-E",
    "itemize": "Ctrl-I"
   },
   "labels_anchors": false,
   "latex_user_defs": false,
   "report_style_numbering": false,
   "user_envs_cfg": false
  },
  "toc": {
   "base_numbering": 1,
   "nav_menu": {},
   "number_sections": true,
   "sideBar": true,
   "skip_h1_title": false,
   "title_cell": "Table of Contents",
   "title_sidebar": "Contents",
   "toc_cell": false,
   "toc_position": {},
   "toc_section_display": true,
   "toc_window_display": false
  }
 },
 "nbformat": 4,
 "nbformat_minor": 2
}

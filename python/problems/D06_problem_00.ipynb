{
 "cells": [
  {
   "cell_type": "markdown",
   "metadata": {},
   "source": [
    "# 소대소대\n",
    "\n",
    "> 단어의 짝수번째 알파벳은 대문자로, 홀수번째 알파벳은 소문자로 바꾼 문자열을 return 하는 함수 `up_and_low`을 작성하세요.\n",
    "\n",
    "예시)\n",
    "```python\n",
    "up_and_low('applepie') #=> aPpLePiE\n",
    "up_and_low('spaceship') #=> sPaCeShIp\n",
    "```"
   ]
  },
  {
   "cell_type": "code",
   "execution_count": 42,
   "metadata": {},
   "outputs": [],
   "source": [
    "# 여기에 코드를 작성하세요.\n",
    "\n",
    "def up_and_low(word):\n",
    "    list_a = []\n",
    "    for i in range(len(word)):        \n",
    "        if i%2 == 0:\n",
    "            list_a.append(word[i].upper()) #word[i].upper() = 반환값, 문자열 자체를 수정해 주지는 않는다.\n",
    "        else:\n",
    "            list_a.append(word[i].lower())\n",
    "    return ''.join(list_a)\n",
    "                   \n",
    "# a = \"abc\"\n",
    "# a[0].upper() == 'A'\n",
    "# print(a[0])"
   ]
  },
  {
   "cell_type": "code",
   "execution_count": 92,
   "metadata": {},
   "outputs": [
    {
     "name": "stdout",
     "output_type": "stream",
     "text": [
      "AbBa\n",
      "SpAcEsHiP\n"
     ]
    }
   ],
   "source": [
    "# 해당 코드를 통해 올바른 결과가 나오는지 확인하세요.\n",
    "print(up_and_low('aBBa'))\n",
    "print(up_and_low('spaceship'))"
   ]
  },
  {
   "cell_type": "code",
   "execution_count": 131,
   "metadata": {},
   "outputs": [],
   "source": [
    "def up_and_low_2(word):\n",
    "    new_str = ''                                                         #list처럼  빈 string 생성\n",
    "    for idx, w in enumerate(word):\n",
    "        if idx % 2:\n",
    "            new_str += w.upper()                            #string은  더하기 가능?\n",
    "        else:\n",
    "            new_str += w.lower()\n",
    "    return new_str"
   ]
  },
  {
   "cell_type": "code",
   "execution_count": 132,
   "metadata": {},
   "outputs": [
    {
     "name": "stdout",
     "output_type": "stream",
     "text": [
      "aBbA\n",
      "sPaCeShIp\n"
     ]
    }
   ],
   "source": [
    "print(up_and_low_2('aBBa'))\n",
    "print(up_and_low_2('spaceship'))"
   ]
  },
  {
   "cell_type": "code",
   "execution_count": 136,
   "metadata": {},
   "outputs": [],
   "source": [
    "def up_and_row(word):\n",
    "    new_str = [w.upper() if idx % 2 else w.lower() for idx, w in enumerate(word)]"
   ]
  },
  {
   "cell_type": "code",
   "execution_count": 137,
   "metadata": {},
   "outputs": [
    {
     "name": "stdout",
     "output_type": "stream",
     "text": [
      "None\n",
      "None\n"
     ]
    }
   ],
   "source": [
    "print(up_and_row('aBBa'))\n",
    "print(up_and_row('spaceship'))"
   ]
  },
  {
   "cell_type": "markdown",
   "metadata": {},
   "source": [
    "# 숫자 패턴\n",
    "\n",
    "> 원하는 행까지 아래의 패턴을 생성하는 함수 `pattern`를 작성하세요. 만약 인자가 0이나 음의 정수인 경우 \"\" 즉, 빈 문자열로 반환하세요. 짝수가 인수로 전달되면 패턴은 통과된 짝수보다 작은 최대 홀수까지 계속되어야 합니다.\n",
    "\n",
    "예시)\n",
    "\n",
    "```python\n",
    "pattern(9)\n",
    "\n",
    "1\n",
    "333\n",
    "55555\n",
    "7777777\n",
    "999999999\n",
    "\n",
    "pattern(6)\n",
    "\n",
    "1\n",
    "333\n",
    "55555\n",
    "```\n",
    "\n",
    "주의)\n",
    "\n",
    "- 패턴에 공백은 없습니다.\n",
    "- 함수 내부에서 `print()`를 사용하는 것이 아니라, 하나의 문자열을 `return`하여서 출력하여야 합니다."
   ]
  },
  {
   "cell_type": "code",
   "execution_count": 91,
   "metadata": {},
   "outputs": [
    {
     "name": "stdout",
     "output_type": "stream",
     "text": [
      "1\n",
      "333\n",
      "55555\n",
      "7777777\n",
      "999999999\n"
     ]
    },
    {
     "data": {
      "text/plain": [
       "'1\\n333\\n55555\\n7777777\\n999999999'"
      ]
     },
     "execution_count": 91,
     "metadata": {},
     "output_type": "execute_result"
    }
   ],
   "source": [
    "# 여기에 코드를 작성하세요.\n",
    "\n",
    "def pattern_1(n):\n",
    "    list_b = []\n",
    "    for i in range(int(n)+1):        \n",
    "        if i%2 == 1:            \n",
    "            list_b.append(str(i)*i)  #i값은 숫자이기 때문에 반복해서 곱하기 위해 string으로 바꿔준다.\n",
    "            a = '\\n'.join(list_b)\n",
    "    print(a)\n",
    "    return a\n",
    "        \n",
    "pattern_!(9)"
   ]
  },
  {
   "cell_type": "code",
   "execution_count": 107,
   "metadata": {},
   "outputs": [],
   "source": [
    "def pattern(n):\n",
    "    string = ''\n",
    "    a = n\n",
    "    if a % 2 == 0:\n",
    "        a -= 1\n",
    "    for x in range(1, a+1):\n",
    "        if x % 2 != 0:\n",
    "            string += str(x) * x\n",
    "            if x != a:\n",
    "                string += '\\n'\n",
    "    return string"
   ]
  },
  {
   "cell_type": "code",
   "execution_count": 108,
   "metadata": {},
   "outputs": [
    {
     "name": "stdout",
     "output_type": "stream",
     "text": [
      "1\n",
      "333\n",
      "55555\n",
      "7777777\n",
      "999999999\n",
      "1\n",
      "333\n",
      "55555\n"
     ]
    }
   ],
   "source": [
    "print(pattern(9))\n",
    "print(pattern(6))"
   ]
  },
  {
   "cell_type": "code",
   "execution_count": 110,
   "metadata": {},
   "outputs": [],
   "source": [
    "def pattern_2(n):\n",
    "    ans = []\n",
    "    for i in range(1,n+1):\n",
    "        if (i+1) % 2== 0:\n",
    "            ans.append(f'{i}'*i)\n",
    "    ans = '\\n'.join(ans)\n",
    "    return ans"
   ]
  },
  {
   "cell_type": "code",
   "execution_count": 112,
   "metadata": {},
   "outputs": [
    {
     "name": "stdout",
     "output_type": "stream",
     "text": [
      "1\n",
      "333\n",
      "55555\n",
      "7777777\n",
      "999999999\n",
      "1\n",
      "333\n",
      "55555\n"
     ]
    }
   ],
   "source": [
    "# 해당 코드를 통해 올바른 결과가 나오는지 확인하세요.\n",
    "print(pattern_2(9))\n",
    "print(pattern_2(6))"
   ]
  },
  {
   "cell_type": "code",
   "execution_count": 113,
   "metadata": {},
   "outputs": [],
   "source": [
    "def pattern_2(n):\n",
    "    ans = []\n",
    "    for i in range(1, n+1, 2):\n",
    "        if (i+1) % 2== 0:\n",
    "            ans.append(f'{i}'*i)\n",
    "    ans = '\\n'.join(ans)\n",
    "    return ans\n",
    "\n",
    "print(pattern_2(9))\n",
    "print(pattern_2(6))"
   ]
  },
  {
   "cell_type": "code",
   "execution_count": 114,
   "metadata": {},
   "outputs": [
    {
     "name": "stdout",
     "output_type": "stream",
     "text": [
      "1\n",
      "333\n",
      "55555\n",
      "7777777\n",
      "999999999\n",
      "1\n",
      "333\n",
      "55555\n"
     ]
    }
   ],
   "source": [
    "def pattern_3(n):\n",
    "    r = [str(x)*x for x in range(1, n+1, 2)]\n",
    "    return '\\n'.join(r)\n",
    "\n",
    "print(pattern_3(9))\n",
    "print(pattern_3(6))"
   ]
  },
  {
   "cell_type": "markdown",
   "metadata": {},
   "source": [
    "# 무엇이 중복일까\n",
    "\n",
    "> 중복된 요소만 뽑아서 출력하는 `duplicated` 함수를 작성하시오.\n",
    "\n",
    "예시)\n",
    "\n",
    "```python\n",
    "duplicated(['a', 'b', 'c', 'b', 'd', 'm', 'n', 'n', 'b']) #=> ['b', 'n']\n",
    "```"
   ]
  },
  {
   "cell_type": "code",
   "execution_count": 125,
   "metadata": {},
   "outputs": [],
   "source": [
    "# 여기에 코드를 작성하세요.\n",
    "def duplicated(some_list):\n",
    "    duplicates = []\n",
    "    for value in some_list:\n",
    "        if some_list.count(value) > 1:\n",
    "            if value not in duplicates:\n",
    "                duplicates.append(value)\n",
    "    return duplicates"
   ]
  },
  {
   "cell_type": "code",
   "execution_count": 126,
   "metadata": {},
   "outputs": [
    {
     "name": "stdout",
     "output_type": "stream",
     "text": [
      "['b', 'n']\n"
     ]
    }
   ],
   "source": [
    "print(duplicated(['a', 'b', 'c', 'b', 'd', 'm', 'n', 'n', 'b']))"
   ]
  },
  {
   "cell_type": "code",
   "execution_count": 128,
   "metadata": {},
   "outputs": [
    {
     "name": "stdout",
     "output_type": "stream",
     "text": [
      "['n', 'b']\n"
     ]
    }
   ],
   "source": [
    "def duplicated_2(some_list):\n",
    "    no_duplicate = list(set(some_list))\n",
    "    for i in no_duplicate:\n",
    "        some_list.remove(i)\n",
    "    return list(set(some_list))\n",
    "\n",
    "print(duplicated_2(['a', 'b', 'c', 'b', 'd', 'm', 'n', 'n', 'b']))"
   ]
  },
  {
   "cell_type": "code",
   "execution_count": 121,
   "metadata": {},
   "outputs": [
    {
     "name": "stdout",
     "output_type": "stream",
     "text": [
      "['n', 'b']\n"
     ]
    }
   ],
   "source": [
    "# 해당 코드를 통해 올바른 결과가 나오는지 확인하세요.\n",
    "return list({x}) 세트를 리스트로 형변환한다.\n",
    "return [{x}]       리스트 안에 세트를 담는다."
   ]
  },
  {
   "cell_type": "code",
   "execution_count": 127,
   "metadata": {},
   "outputs": [
    {
     "name": "stdout",
     "output_type": "stream",
     "text": [
      "['n', 'b']\n"
     ]
    }
   ],
   "source": [
    "def duplicated_3(some_list):\n",
    "    return list({c for c in some_list if some_list.count(c) > 1})  #{} set으로 만들어서 중복을 없앤다.\n",
    "\n",
    "print(duplicated_3(['a', 'b', 'c', 'b', 'd', 'm', 'n', 'n', 'b']))"
   ]
  }
 ],
 "metadata": {
  "kernelspec": {
   "display_name": "Python 3",
   "language": "python",
   "name": "python3"
  },
  "language_info": {
   "codemirror_mode": {
    "name": "ipython",
    "version": 3
   },
   "file_extension": ".py",
   "mimetype": "text/x-python",
   "name": "python",
   "nbconvert_exporter": "python",
   "pygments_lexer": "ipython3",
   "version": "3.6.7"
  },
  "toc": {
   "base_numbering": 1,
   "nav_menu": {},
   "number_sections": true,
   "sideBar": true,
   "skip_h1_title": false,
   "title_cell": "Table of Contents",
   "title_sidebar": "Contents",
   "toc_cell": false,
   "toc_position": {},
   "toc_section_display": true,
   "toc_window_display": false
  }
 },
 "nbformat": 4,
 "nbformat_minor": 2
}

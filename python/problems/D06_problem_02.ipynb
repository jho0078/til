{
 "cells": [
  {
   "cell_type": "markdown",
   "metadata": {},
   "source": [
    "# D06_problem_02"
   ]
  },
  {
   "cell_type": "markdown",
   "metadata": {},
   "source": [
    "## 문제\n",
    ">모든 인수의 합계를 반환하는 함수를 만드세요. 입력 값은 함수에 대한 매개 변수로 인덱스와\n",
    "함께 점차 증가합니다."
   ]
  },
  {
   "cell_type": "code",
   "execution_count": null,
   "metadata": {},
   "outputs": [],
   "source": [
    "# 예시 1\n",
    "add(3, 4, 5) # returns (3*1)+(4*2)+(5*3)=26\n",
    "\n",
    "# 예시 2\n",
    "add() #=> 0\n",
    "add(1,2,3) #=> 14\n",
    "add(1,4,-5,5) #=> 14\n",
    "\n",
    "\n",
    "# 유의\n",
    "인수가 없으면 0을 반환합니다."
   ]
  },
  {
   "cell_type": "code",
   "execution_count": 96,
   "metadata": {},
   "outputs": [],
   "source": [
    "#여기에 코드를 작성하세요\n",
    "def add(*args):\n",
    "    list_for_sum = []\n",
    "    for x in args:\n",
    "        a = x*(args.index(x)+1)\n",
    "        print(a)\n",
    "        list_for_sum.append(a)\n",
    "    return sum(list_for_sum)\n",
    "\n",
    "#중복값 제어 안됨, 실패\n"
   ]
  },
  {
   "cell_type": "code",
   "execution_count": 97,
   "metadata": {},
   "outputs": [
    {
     "name": "stdout",
     "output_type": "stream",
     "text": [
      "3\n",
      "8\n",
      "15\n",
      "24\n",
      "35\n",
      "85\n",
      "2\n",
      "10\n",
      "10\n",
      "28\n",
      "28\n",
      "78\n"
     ]
    }
   ],
   "source": [
    "print(add(3, 4, 5, 6, 7))\n",
    "print(add(2, 5, 5, 7, 7))"
   ]
  },
  {
   "cell_type": "code",
   "execution_count": 88,
   "metadata": {},
   "outputs": [],
   "source": [
    "def add(*args):\n",
    "    result = 0\n",
    "    for x, y in enumerate(args):\n",
    "        result += (x+1)*y\n",
    "    return result"
   ]
  },
  {
   "cell_type": "code",
   "execution_count": 89,
   "metadata": {},
   "outputs": [
    {
     "name": "stdout",
     "output_type": "stream",
     "text": [
      "85\n",
      "90\n"
     ]
    }
   ],
   "source": [
    "print(add(3, 4, 5, 6, 7))\n",
    "print(add(2, 5, 5, 7, 7))"
   ]
  },
  {
   "cell_type": "markdown",
   "metadata": {},
   "source": [
    "## 문제\n",
    "\n",
    ">같은 숫자가 한개 있거나 두개가 들어있는 리스트가 주어집니다. 이러한 리스트에서 숫자가 한개만있는 요소들의 합을 구하는 함수를 작성하세요.\n",
    "\n",
    "> 예를 들어, repeats([4, 5, 7, 5, 4, 8]) = 15 는 7과 8이 한번만 나오기 때문에 두개를 더한 15가 결과값으로 도출됩니다. "
   ]
  },
  {
   "cell_type": "code",
   "execution_count": 48,
   "metadata": {},
   "outputs": [],
   "source": [
    "# 여기에 코드를 작성하세요\n",
    "def repeats(args):\n",
    "    result = []\n",
    "    for x in args:        \n",
    "        if args.count(x) == 1:\n",
    "            result.append(x)  \n",
    "    return sum(result)"
   ]
  },
  {
   "cell_type": "code",
   "execution_count": 49,
   "metadata": {},
   "outputs": [
    {
     "name": "stdout",
     "output_type": "stream",
     "text": [
      "25\n"
     ]
    }
   ],
   "source": [
    "print(repeats([4, 4, 7, 8, 10]))"
   ]
  },
  {
   "cell_type": "code",
   "execution_count": 52,
   "metadata": {},
   "outputs": [],
   "source": [
    "def repeats(args):\n",
    "    result = 0\n",
    "    for x in args:        \n",
    "        if args.count(x) == 1:\n",
    "            result += x \n",
    "    return result"
   ]
  },
  {
   "cell_type": "code",
   "execution_count": 53,
   "metadata": {},
   "outputs": [
    {
     "name": "stdout",
     "output_type": "stream",
     "text": [
      "25\n"
     ]
    }
   ],
   "source": [
    "print(repeats([4, 4, 7, 8, 10]))"
   ]
  },
  {
   "cell_type": "markdown",
   "metadata": {},
   "source": [
    "## 문제\n",
    "\n",
    ">과수원에 농부 한명이 썩은 과일이 몇개 들어있는 과일 봉지를 가지고 있습니다. (이 과일 봉지는리스트를 의미합니다) 농부는 썩은 과일 조각들을 모두 신선한 것으로 교체하고 싶어합니다. (rotten과일을 신선한 과일로 바꿔야 합니다)\n",
    "\n",
    ">예를 들어,\n",
    "- [\"apple\",\"rottenBanana\",\"apple\"] 이라는 리스트가 주어진 경우, 대체된 리스트는[\"apple\",\"banana\",\"apple\"]이어야 한다. 당신은 썩은 과일들이 신선한 과일로 대체되어 리스트로 만드는 함수를 작성하는 것입니다.\n",
    "\n",
    "\n",
    "> 유의\n",
    "- 만약 리스트가 null/nil/None이거나 비어 있는 경우 빈 리스트를 반환합니다.\n",
    "- 반환된 리스트는 소문자여야 합니다,"
   ]
  },
  {
   "cell_type": "code",
   "execution_count": 44,
   "metadata": {},
   "outputs": [],
   "source": [
    "# 여기에 코드를 작성하세요\n",
    "def remove_rotten(args):  \n",
    "        joinwords = '_'.join(args)\n",
    "        joinwords_1 = joinwords.replace('rotten','')\n",
    "        result = joinwords_1.split('_')\n",
    "        return result"
   ]
  },
  {
   "cell_type": "code",
   "execution_count": 54,
   "metadata": {},
   "outputs": [
    {
     "name": "stdout",
     "output_type": "stream",
     "text": [
      "['apple', 'Banana', 'apple']\n",
      "['apple', 'Banana', 'apple', 'Grape']\n"
     ]
    }
   ],
   "source": [
    "print(remove_rotten([\"apple\",\"rottenBanana\",\"apple\"] ))\n",
    "print(remove_rotten([\"rottenapple\",\"rottenBanana\",\"apple\", 'rottenGrape']))"
   ]
  },
  {
   "cell_type": "code",
   "execution_count": 98,
   "metadata": {},
   "outputs": [
    {
     "ename": "SyntaxError",
     "evalue": "'return' outside function (<ipython-input-98-c68d26c22a07>, line 1)",
     "output_type": "error",
     "traceback": [
      "\u001b[1;36m  File \u001b[1;32m\"<ipython-input-98-c68d26c22a07>\"\u001b[1;36m, line \u001b[1;32m1\u001b[0m\n\u001b[1;33m    return [i.replace('rotten', '').lower()]\u001b[0m\n\u001b[1;37m                                            ^\u001b[0m\n\u001b[1;31mSyntaxError\u001b[0m\u001b[1;31m:\u001b[0m 'return' outside function\n"
     ]
    }
   ],
   "source": [
    "return [i.replace('rotten', '').lower()]"
   ]
  },
  {
   "cell_type": "code",
   "execution_count": 105,
   "metadata": {},
   "outputs": [
    {
     "ename": "SyntaxError",
     "evalue": "invalid syntax (<ipython-input-105-516592b5eca1>, line 3)",
     "output_type": "error",
     "traceback": [
      "\u001b[1;36m  File \u001b[1;32m\"<ipython-input-105-516592b5eca1>\"\u001b[1;36m, line \u001b[1;32m3\u001b[0m\n\u001b[1;33m    if rotten is in x:\u001b[0m\n\u001b[1;37m                  ^\u001b[0m\n\u001b[1;31mSyntaxError\u001b[0m\u001b[1;31m:\u001b[0m invalid syntax\n"
     ]
    }
   ],
   "source": [
    "a =[\"apple\",\"rottenBanana\",\"apple\"]\n",
    "for x in a:\n",
    "    if rotten is in x:\n",
    "        print('banana')"
   ]
  },
  {
   "cell_type": "markdown",
   "metadata": {},
   "source": [
    "## 문제\n",
    "\n",
    ">마을의 신호등을 제어하는 코드를 작성하려고 합니다. 녹색 -> 노란색 -> 빨간색 \n",
    "-> 녹색으로 변환하는 함수가 필요합니다. \n",
    "\n",
    "> 현재의 불빛 상태를 나타내는 인수하고 함수를 실행 시켰을 때 변경 되어야 하는 빛의 색을 \n",
    "나타내는 함수를 완성하세요.\n",
    "\n",
    ">예시:update_light('green') should return 'yellow'."
   ]
  },
  {
   "cell_type": "code",
   "execution_count": 84,
   "metadata": {},
   "outputs": [],
   "source": [
    "# 여기에 코드를 작성하세요.\n",
    "def update_light(color):\n",
    "    colors = ['red', 'yellow', 'green']\n",
    "    return colors[colors.index(color)-1]"
   ]
  },
  {
   "cell_type": "code",
   "execution_count": 85,
   "metadata": {},
   "outputs": [
    {
     "name": "stdout",
     "output_type": "stream",
     "text": [
      "green\n"
     ]
    }
   ],
   "source": [
    "print(update_light('red'))"
   ]
  },
  {
   "cell_type": "markdown",
   "metadata": {},
   "source": [
    "## 문제\n",
    "\n",
    ">Arara는 셈을 한쌍으로 하는 아마존에 살고 있는 부족입니다. 이들이 행하는 셈의 방식은 다음과 같습니다.\n",
    "\n",
    ">예를 들어, 1에서 8까지는 셈을 한다면,\n",
    "- 1 = anane \n",
    "- 2 = adak \n",
    "- 3 = adak anane \n",
    "- 4 = adak adak \n",
    "- 5 = adak adak anane \n",
    "- 6 = adak adak adak\n",
    "- 7 = adak adak adak anane\n",
    "- 8 = adak adak adak adak \n",
    "\n",
    ">주어진 숫자 인수를 통해 다음과 같은 함수를 작성하세요.\n",
    "\n",
    "\n",
    ">예시\n",
    "- count_arara(3) # -> 'adak anane'\n",
    "- count_arara(8) # -> 'adak adak adak adak'"
   ]
  },
  {
   "cell_type": "code",
   "execution_count": 56,
   "metadata": {},
   "outputs": [
    {
     "name": "stdout",
     "output_type": "stream",
     "text": [
      "adak adak adak anane\n"
     ]
    }
   ],
   "source": [
    "# 여기에 코드를 작성하세요\n",
    "def count_arara(m_num):\n",
    "    if m_num%2:\n",
    "        return \"adak \"*(m_num//2) + \"anane\"\n",
    "    else:\n",
    "        return \"adak \"*(m_num//2)\n",
    "\n",
    "print(count_arara(7))\n",
    "\n",
    "#공백을 없애고 싶다면 rstrip"
   ]
  },
  {
   "cell_type": "markdown",
   "metadata": {},
   "source": [
    "## 문제 \n",
    "\n",
    "> 제 친구 Rora는 그녀가 하고있는 밴드의 이름을 바꾸고 싶어합니다. \n",
    "그녀는 \"The\" + a 대문자 명사 형태의 밴드 이름을 원합니다. 예를 들어,\"dolphin\" -> \"The Dolphin\"와 같습니다.\n",
    "\n",
    "> 혹은 앞뒤가 같은 단어인 명사를 반복하여 결합하여 첫번째 문자를 대문자로 시작하는 밴드 이름을 \n",
    "만들고 싶어합니다. (이때는 앞쪽에 'The'가 없음) 예를 들어, \"alaska\" -> \"Alaskaalaska\"과 같습니다.\n",
    "\n",
    ">명사를 문자열로 하는 함수를 완성하고 선호하는 밴드 이름을 문자열로 표시하세요."
   ]
  },
  {
   "cell_type": "code",
   "execution_count": 70,
   "metadata": {},
   "outputs": [],
   "source": [
    "# 여기에 코드를 작성하세요\n",
    "def band_name_generator(name):\n",
    "    band = ''\n",
    "    if name[0] == name[-1]:\n",
    "        band = name.capitalize() + name\n",
    "    else:\n",
    "        band = 'The' + name.capitalize()  \n",
    "    return band"
   ]
  },
  {
   "cell_type": "code",
   "execution_count": 71,
   "metadata": {},
   "outputs": [
    {
     "name": "stdout",
     "output_type": "stream",
     "text": [
      "TheDolphinyap\n",
      "Akaaka\n"
     ]
    }
   ],
   "source": [
    "print(band_name_generator('dolphinyap'))\n",
    "print(band_name_generator('aka'))"
   ]
  },
  {
   "cell_type": "markdown",
   "metadata": {},
   "source": [
    "## 문제\n",
    "\n",
    ">몇개의 숫자가 주어지면, 사용되지 않은 숫자를 프린트하세요.\n",
    "\n",
    ">예시\n",
    "- unused_digits(12, 34, 56, 78) # \"09\"\n",
    "- unused_digits(2015, 8, 26) # \"3479\"\n",
    "\n",
    ">유의\n",
    "- 결과값은 정렬되어야 합니다.\n"
   ]
  },
  {
   "cell_type": "code",
   "execution_count": 72,
   "metadata": {},
   "outputs": [
    {
     "ename": "NameError",
     "evalue": "name 'result' is not defined",
     "output_type": "error",
     "traceback": [
      "\u001b[1;31m---------------------------------------------------------------------------\u001b[0m",
      "\u001b[1;31mNameError\u001b[0m                                 Traceback (most recent call last)",
      "\u001b[1;32m<ipython-input-72-2ace3a0ada76>\u001b[0m in \u001b[0;36m<module>\u001b[1;34m\u001b[0m\n\u001b[0;32m      9\u001b[0m \u001b[1;33m\u001b[0m\u001b[0m\n\u001b[0;32m     10\u001b[0m \u001b[1;33m\u001b[0m\u001b[0m\n\u001b[1;32m---> 11\u001b[1;33m \u001b[0mprint\u001b[0m\u001b[1;33m(\u001b[0m\u001b[0munused_digits\u001b[0m\u001b[1;33m(\u001b[0m\u001b[1;36m12\u001b[0m\u001b[1;33m,\u001b[0m \u001b[1;36m34\u001b[0m\u001b[1;33m,\u001b[0m \u001b[1;36m56\u001b[0m\u001b[1;33m,\u001b[0m \u001b[1;36m78\u001b[0m\u001b[1;33m)\u001b[0m\u001b[1;33m)\u001b[0m\u001b[1;33m\u001b[0m\u001b[1;33m\u001b[0m\u001b[0m\n\u001b[0m\u001b[0;32m     12\u001b[0m \u001b[0mprint\u001b[0m\u001b[1;33m(\u001b[0m\u001b[0munused_digits\u001b[0m\u001b[1;33m(\u001b[0m\u001b[1;36m12\u001b[0m\u001b[1;33m,\u001b[0m \u001b[1;36m89\u001b[0m\u001b[1;33m,\u001b[0m \u001b[1;36m75\u001b[0m\u001b[1;33m)\u001b[0m\u001b[1;33m)\u001b[0m\u001b[1;33m\u001b[0m\u001b[1;33m\u001b[0m\u001b[0m\n",
      "\u001b[1;32m<ipython-input-72-2ace3a0ada76>\u001b[0m in \u001b[0;36munused_digits\u001b[1;34m(*args)\u001b[0m\n\u001b[0;32m      4\u001b[0m     \u001b[1;32mfor\u001b[0m \u001b[0mx\u001b[0m \u001b[1;32min\u001b[0m \u001b[0mrange\u001b[0m\u001b[1;33m(\u001b[0m\u001b[1;36m10\u001b[0m\u001b[1;33m)\u001b[0m\u001b[1;33m:\u001b[0m\u001b[1;33m\u001b[0m\u001b[1;33m\u001b[0m\u001b[0m\n\u001b[0;32m      5\u001b[0m         \u001b[1;32mif\u001b[0m \u001b[0mx\u001b[0m \u001b[1;32mnot\u001b[0m \u001b[1;32min\u001b[0m \u001b[0mlist_a\u001b[0m\u001b[1;33m:\u001b[0m\u001b[1;33m\u001b[0m\u001b[1;33m\u001b[0m\u001b[0m\n\u001b[1;32m----> 6\u001b[1;33m             \u001b[0mresult\u001b[0m\u001b[1;33m.\u001b[0m\u001b[0mappend\u001b[0m\u001b[1;33m(\u001b[0m\u001b[0mx\u001b[0m\u001b[1;33m)\u001b[0m\u001b[1;33m\u001b[0m\u001b[1;33m\u001b[0m\u001b[0m\n\u001b[0m\u001b[0;32m      7\u001b[0m \u001b[1;33m\u001b[0m\u001b[0m\n\u001b[0;32m      8\u001b[0m \u001b[1;33m\u001b[0m\u001b[0m\n",
      "\u001b[1;31mNameError\u001b[0m: name 'result' is not defined"
     ]
    }
   ],
   "source": [
    "# 여기에 코드를 작성하세요\n",
    "def unused_digits(*args):\n",
    "    list_a = map(int, args)\n",
    "    for x in range(10):\n",
    "        if x not in list_a:\n",
    "            result.append(x)\n",
    "            \n",
    "          \n",
    "        \n",
    " \n",
    "print(unused_digits(12, 34, 56, 78))\n",
    "print(unused_digits(12, 89, 75))"
   ]
  },
  {
   "cell_type": "code",
   "execution_count": 76,
   "metadata": {},
   "outputs": [],
   "source": [
    "def unused_digits(*args):\n",
    "    digit = set([1,2,3,4,5,6,7,8,9])\n",
    "    a = set()\n",
    "    for i in args:\n",
    "        a.update(set(map(int, list(str(i)))))\n",
    "    return ' '.join(map(str, list(digit - a)))"
   ]
  },
  {
   "cell_type": "code",
   "execution_count": null,
   "metadata": {},
   "outputs": [],
   "source": [
    "return '.join(sorted(map(str, (set('0123456789')\n",
    "                                    -))))'"
   ]
  },
  {
   "cell_type": "markdown",
   "metadata": {},
   "source": [
    "## 문제\n",
    "\n",
    ">스트링과 함께 섞여있는 문자열들 속에서 정수만 뽑아내 합을 반환하는 함수를 작성하세요.\n",
    "\n",
    "> 예시\n",
    "- \"The30quick20brown10f0x1203jumps914ov3r1349the102l4zy dog\" \n",
    "- -> 3635"
   ]
  },
  {
   "cell_type": "code",
   "execution_count": 2,
   "metadata": {},
   "outputs": [
    {
     "name": "stdout",
     "output_type": "stream",
     "text": [
      "3635\n"
     ]
    }
   ],
   "source": [
    "# 여기에 코드를 작성하세요 split isdigit replace map\n",
    "def sum_of_integers_in_string(foo):\n",
    "    for  x in foo:\n",
    "        if not x.isdigit():\n",
    "            foo = foo.replace(x, ' ') #숫자가 아니면 공백으로 전환\n",
    "    return sum(map(int, foo.split()))\n",
    "\n",
    "print(sum_of_integers_in_string(\"The30quick20brown10f0x1203jumps914ov3r1349the102l4zy dog\"))"
   ]
  }
 ],
 "metadata": {
  "kernelspec": {
   "display_name": "Python 3",
   "language": "python",
   "name": "python3"
  },
  "language_info": {
   "codemirror_mode": {
    "name": "ipython",
    "version": 3
   },
   "file_extension": ".py",
   "mimetype": "text/x-python",
   "name": "python",
   "nbconvert_exporter": "python",
   "pygments_lexer": "ipython3",
   "version": "3.6.7"
  },
  "toc": {
   "base_numbering": 1,
   "nav_menu": {},
   "number_sections": true,
   "sideBar": true,
   "skip_h1_title": false,
   "title_cell": "Table of Contents",
   "title_sidebar": "Contents",
   "toc_cell": false,
   "toc_position": {},
   "toc_section_display": true,
   "toc_window_display": false
  }
 },
 "nbformat": 4,
 "nbformat_minor": 2
}

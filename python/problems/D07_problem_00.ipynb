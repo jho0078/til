{
 "cells": [
  {
   "cell_type": "markdown",
   "metadata": {},
   "source": [
    "# 문자열 계산하기\n",
    "\n",
    "> 아래와 같이 문자열이 주어졌을 때, 바보같은 사용자를 위해 계산을 해주려고 한다.\n",
    ">\n",
    "> 이 계산기는 더하기와 빼기밖에 못한다.\n",
    ">\n",
    "> `calc(equation)`을 만들어봅시다.\n",
    "\n",
    "---\n",
    "\n",
    "예시)\n",
    "\n",
    "```python\n",
    "calc('123+2-124') #=> 1\n",
    "calc('-12+12-7979+9191') #=> 1212\n",
    "calc('+1-1+1-1+1-1+1-1+1-1+1-1+1-1+1-1+1-1+1-1+1-1+1-1+1-1+1-1+1-1+1-1') #=> 0\n",
    "```"
   ]
  },
  {
   "cell_type": "code",
   "execution_count": 24,
   "metadata": {},
   "outputs": [
    {
     "ename": "ValueError",
     "evalue": "'+' is not in list",
     "output_type": "error",
     "traceback": [
      "\u001b[1;31m---------------------------------------------------------------------------\u001b[0m",
      "\u001b[1;31mValueError\u001b[0m                                Traceback (most recent call last)",
      "\u001b[1;32m<ipython-input-24-85b4b1a6d6fb>\u001b[0m in \u001b[0;36m<module>\u001b[1;34m\u001b[0m\n\u001b[0;32m     18\u001b[0m     \u001b[0mprint\u001b[0m\u001b[1;33m(\u001b[0m\u001b[0mequation_splilt\u001b[0m\u001b[1;33m)\u001b[0m\u001b[1;33m\u001b[0m\u001b[1;33m\u001b[0m\u001b[0m\n\u001b[0;32m     19\u001b[0m \u001b[1;33m\u001b[0m\u001b[0m\n\u001b[1;32m---> 20\u001b[1;33m \u001b[0mprint\u001b[0m\u001b[1;33m(\u001b[0m\u001b[0mcalc\u001b[0m\u001b[1;33m(\u001b[0m\u001b[1;34m'123+2-124'\u001b[0m\u001b[1;33m)\u001b[0m\u001b[1;33m)\u001b[0m\u001b[1;33m\u001b[0m\u001b[1;33m\u001b[0m\u001b[0m\n\u001b[0m\u001b[0;32m     21\u001b[0m \u001b[1;33m\u001b[0m\u001b[0m\n\u001b[0;32m     22\u001b[0m \u001b[1;31m#     ezuation = equation.replace('+',)\u001b[0m\u001b[1;33m\u001b[0m\u001b[1;33m\u001b[0m\u001b[1;33m\u001b[0m\u001b[0m\n",
      "\u001b[1;32m<ipython-input-24-85b4b1a6d6fb>\u001b[0m in \u001b[0;36mcalc\u001b[1;34m(equation)\u001b[0m\n\u001b[0;32m      7\u001b[0m     \u001b[0mlist_plus\u001b[0m\u001b[1;33m.\u001b[0m\u001b[0mappend\u001b[0m\u001b[1;33m(\u001b[0m\u001b[0mlist_nanum\u001b[0m\u001b[1;33m.\u001b[0m\u001b[0mindex\u001b[0m\u001b[1;33m(\u001b[0m\u001b[1;34m'+'\u001b[0m\u001b[1;33m)\u001b[0m\u001b[1;33m-\u001b[0m\u001b[1;36m1\u001b[0m\u001b[1;33m)\u001b[0m\u001b[1;33m\u001b[0m\u001b[1;33m\u001b[0m\u001b[0m\n\u001b[0;32m      8\u001b[0m     \u001b[0mlist_nanum\u001b[0m\u001b[1;33m.\u001b[0m\u001b[0mpop\u001b[0m\u001b[1;33m(\u001b[0m\u001b[0mlist_nanum\u001b[0m\u001b[1;33m.\u001b[0m\u001b[0mindex\u001b[0m\u001b[1;33m(\u001b[0m\u001b[1;34m'+'\u001b[0m\u001b[1;33m)\u001b[0m\u001b[1;33m)\u001b[0m\u001b[1;33m\u001b[0m\u001b[1;33m\u001b[0m\u001b[0m\n\u001b[1;32m----> 9\u001b[1;33m     \u001b[0mlist_nanum\u001b[0m\u001b[1;33m.\u001b[0m\u001b[0mpop\u001b[0m\u001b[1;33m(\u001b[0m\u001b[0mlist_nanum\u001b[0m\u001b[1;33m.\u001b[0m\u001b[0mindex\u001b[0m\u001b[1;33m(\u001b[0m\u001b[1;34m'+'\u001b[0m\u001b[1;33m)\u001b[0m\u001b[1;33m-\u001b[0m\u001b[1;36m1\u001b[0m\u001b[1;33m)\u001b[0m\u001b[1;33m\u001b[0m\u001b[1;33m\u001b[0m\u001b[0m\n\u001b[0m\u001b[0;32m     10\u001b[0m \u001b[1;33m\u001b[0m\u001b[0m\n\u001b[0;32m     11\u001b[0m \u001b[1;33m\u001b[0m\u001b[0m\n",
      "\u001b[1;31mValueError\u001b[0m: '+' is not in list"
     ]
    }
   ],
   "source": [
    "# 여기에 코드를 작성하세요\n",
    "list_number = []\n",
    "list_plus = []\n",
    "list_minus = []\n",
    "def calcd(equation):\n",
    "    list_nanum = list(equation)\n",
    "    list_plus.append(list_nanum.index('+')-1)\n",
    "    list_nanum.pop(list_nanum.index('+'))\n",
    "    list_nanum.pop(list_nanum.index('+')-1)    \n",
    "    \n",
    "    \n",
    "    for i in range(len(list_nunum)):\n",
    "        if i == '+':\n",
    "            for x in list_nanum:\n",
    "                list_plus.append(x)\n",
    "            \n",
    "    equation_splilt = equation.split()\n",
    "    print(equation_splilt)\n",
    "\n",
    "print(calc('123+2-124'))\n",
    "    \n",
    "#     ezuation = equation.replace('+',)\n",
    "    \n",
    "    \n",
    "    \n",
    "    \n",
    "#     equation_except_plus = eauation.spit(''+'')\n",
    "#     equation_except_minus = equation\n",
    "#     for x in "
   ]
  },
  {
   "cell_type": "code",
   "execution_count": 27,
   "metadata": {},
   "outputs": [],
   "source": [
    "def calc(equation):\n",
    "    for x in equation:                                                                            #for 문의 equation은 if문에서 -를 찾을 때마다 공백을 추가하기 때문에\n",
    "        if  x == '+':                                                                                     #\n",
    "            equation = equation.replace(x, \" \")\n",
    "        if x == '-':\n",
    "            equation = equation.replace(x, \"  -\")\n",
    "    return sum(list((map(int, equation.split()))))"
   ]
  },
  {
   "cell_type": "code",
   "execution_count": null,
   "metadata": {},
   "outputs": [],
   "source": [
    "def calc(equation):\n",
    "    equation = equation.replace('+', ' +').replace('-', ' -')  #+를 공백+ , -를 공백- 로 바꾼다.\n",
    "    return sum(map(int, equation.split()))\n",
    "    "
   ]
  },
  {
   "cell_type": "code",
   "execution_count": 26,
   "metadata": {},
   "outputs": [
    {
     "name": "stdout",
     "output_type": "stream",
     "text": [
      "1\n",
      "1212\n",
      "0\n"
     ]
    }
   ],
   "source": [
    "# 해당 코드를 통해 올바른 결과가 나오는지 확인하세요.\n",
    "print(calc('123+2-124'))\n",
    "print(calc('-12+12-7979+9191'))\n",
    "print(calc('+1-1+1-1+1-1+1-1+1-1+1-1+1-1+1-1+1-1+1-1+1-1+1-1+1-1+1-1+1-1+1-1'))"
   ]
  },
  {
   "cell_type": "markdown",
   "metadata": {},
   "source": [
    "# 시험 채점 시스템\n",
    "\n",
    "> 첫 번째 인자는 정답이 들어있는 리스트, 두 번째 인자는 사용자의 답이 들어있는 리스트입니다. 두 리스트는 비어있지 않으며 길이가 같습니다.\n",
    "\n",
    "> 정답의 경우 +4점, 오답의 경우 -1점, 공백 응답(빈 문자열)의 경우 0점입니다. 만약, 점수가 0보다 작으면 0을 return 합니다.\n",
    ">\n",
    "> 위와 같이 시험 점수를 체크하는 함수 `check_score(real_answers, my_answers)` 을 작성하세요.\n",
    "\n",
    "예시)\n",
    "\n",
    "```python\n",
    "check_score([\"a\", \"a\", \"b\", \"b\"], [\"a\", \"c\", \"b\", \"d\"]) #=> 6\n",
    "check_score([\"a\", \"a\", \"c\", \"b\"], [\"a\", \"a\", \"b\", \"\"]) #=> 7\n",
    "check_score([\"a\", \"a\", \"b\", \"c\"], [\"a\", \"a\", \"b\", \"c\"]) #=> 16\n",
    "check_score([\"b\", \"c\", \"b\", \"a\"], [\"\", \"a\", \"a\", \"c\"]) #=> 0\n",
    "```"
   ]
  },
  {
   "cell_type": "code",
   "execution_count": 33,
   "metadata": {},
   "outputs": [],
   "source": [
    "# 여기에 코드를 작성하세요.\n",
    "list_score = []\n",
    "def check_score(real_answers, my_answers):    \n",
    "    list_compare = list(zip(real_answers, my_answers))\n",
    "    for i in range(len(real_answers)):\n",
    "        if list_compare[i][0] == list_compare[i][1]:\n",
    "            list_score.append(4)\n",
    "        elif list_compare[i][0] != list_compare[i][1]:\n",
    "            list_score.append(-1)\n",
    "        else:\n",
    "            list_score.append(0)\n",
    "    return sum(list_score)"
   ]
  },
  {
   "cell_type": "code",
   "execution_count": 37,
   "metadata": {},
   "outputs": [],
   "source": [
    "def check_score_2(real_answers, my_answers):   \n",
    "    ans = [ 4 if real == my else -1 if my else 0 for real, my in zip(real_answers, my_answers) if m] #if -else | if-else | for | if 도는 순서\n",
    "    if sum(ans) < 0:                                                                                                                                                          3               4             1     2\n",
    "        return 0\n",
    "    else:\n",
    "        return sum(ans)"
   ]
  },
  {
   "cell_type": "code",
   "execution_count": null,
   "metadata": {},
   "outputs": [],
   "source": [
    "def check_score_3(real_answers, my_answers):\n",
    "    return max(0, sum([4 if  r == m else -1 for r, m in zip(real_answers, my_answers) if m]))"
   ]
  },
  {
   "cell_type": "code",
   "execution_count": 35,
   "metadata": {},
   "outputs": [
    {
     "name": "stdout",
     "output_type": "stream",
     "text": [
      "-4\n"
     ]
    }
   ],
   "source": [
    "# 해당 코드를 통해 올바른 결과가 나오는지 확인하세요.\n",
    "# print(check_score([\"a\", \"a\", \"b\", \"b\"], [\"a\", \"c\", \"b\", \"d\"]))\n",
    "# print(check_score([\"a\", \"a\", \"c\", \"b\"], [\"a\", \"a\", \"b\", \"\"]))\n",
    "# print(check_score([\"a\", \"a\", \"b\", \"c\"], [\"a\", \"a\", \"b\", \"c\"]))\n",
    "print(check_score([\"b\", \"c\", \"b\", \"a\"], [\"\", \"a\", \"a\", \"c\"]))"
   ]
  },
  {
   "cell_type": "code",
   "execution_count": 36,
   "metadata": {},
   "outputs": [
    {
     "name": "stdout",
     "output_type": "stream",
     "text": [
      "2\n"
     ]
    }
   ],
   "source": [
    " print(check_score([\"a\", \"a\", \"b\", \"b\"], [\"a\", \"c\", \"b\", \"d\"]))"
   ]
  },
  {
   "cell_type": "code",
   "execution_count": null,
   "metadata": {},
   "outputs": [],
   "source": []
  }
 ],
 "metadata": {
  "kernelspec": {
   "display_name": "Python 3",
   "language": "python",
   "name": "python3"
  },
  "language_info": {
   "codemirror_mode": {
    "name": "ipython",
    "version": 3
   },
   "file_extension": ".py",
   "mimetype": "text/x-python",
   "name": "python",
   "nbconvert_exporter": "python",
   "pygments_lexer": "ipython3",
   "version": "3.6.7"
  },
  "toc": {
   "base_numbering": 1,
   "nav_menu": {},
   "number_sections": true,
   "sideBar": true,
   "skip_h1_title": false,
   "title_cell": "Table of Contents",
   "title_sidebar": "Contents",
   "toc_cell": false,
   "toc_position": {},
   "toc_section_display": true,
   "toc_window_display": false
  }
 },
 "nbformat": 4,
 "nbformat_minor": 2
}

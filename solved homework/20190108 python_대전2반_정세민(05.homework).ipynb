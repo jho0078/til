{
 "cells": [
  {
   "cell_type": "code",
   "execution_count": 3,
   "metadata": {},
   "outputs": [
    {
     "name": "stdout",
     "output_type": "stream",
     "text": [
      "podo\n",
      "subak\n",
      "ddalgi\n",
      "gam\n"
     ]
    }
   ],
   "source": [
    "# 1. List는 for 문을 실행하면 모든 요소를 순차적으로 돌면서 반복문을 수행합니다.\n",
    "# 임의의 리스트 my_list의 값을 하나씩 출력하는 코드를 아래에 작성하시오.\n",
    "my_list = ['podo', 'subak', 'ddalgi', 'gam']\n",
    "for fruit in my_list:\n",
    "    print(fruit)"
   ]
  },
  {
   "cell_type": "code",
   "execution_count": 5,
   "metadata": {},
   "outputs": [
    {
     "name": "stdout",
     "output_type": "stream",
     "text": [
      "0 podo\n",
      "1 subak\n",
      "2 ddalgi\n",
      "3 gam\n"
     ]
    }
   ],
   "source": [
    "# 2. 위에 작성한 코드를 인덱스(index) 값과 함께 출력하는 코드로 변경하시오.\n",
    "for idx, fruit in enumerate(my_list):\n",
    "    print(idx, fruit)\n",
    "    my_dict"
   ]
  },
  {
   "cell_type": "code",
   "execution_count": 6,
   "metadata": {},
   "outputs": [],
   "source": [
    "# 3. 딕셔너리는 key, value로 구성되어 있습니다. 따라서, 딕셔너리 my_dict 각각의 상\n",
    "# 황에 따라 반복문을 수행할 수 있도록 빈칸을 채우시오.\n",
    "\n",
    "for key in my_dict.keys():\n",
    "for value in my_dict.values():\n",
    "for key, value in my_dict.items(): "
   ]
  },
  {
   "cell_type": "code",
   "execution_count": 7,
   "metadata": {},
   "outputs": [
    {
     "name": "stdout",
     "output_type": "stream",
     "text": [
      "6\n"
     ]
    }
   ],
   "source": [
    "# 4. result에 저장된 값은?  6\n",
    "def my_func(a, b):\n",
    "    c = a + b\n",
    "    print(c)\n",
    "    \n",
    "result = my_func(1, 5)\n",
    "\n"
   ]
  }
 ],
 "metadata": {
  "kernelspec": {
   "display_name": "Python 3",
   "language": "python",
   "name": "python3"
  },
  "language_info": {
   "codemirror_mode": {
    "name": "ipython",
    "version": 3
   },
   "file_extension": ".py",
   "mimetype": "text/x-python",
   "name": "python",
   "nbconvert_exporter": "python",
   "pygments_lexer": "ipython3",
   "version": "3.6.7"
  }
 },
 "nbformat": 4,
 "nbformat_minor": 2
}

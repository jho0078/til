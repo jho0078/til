{
 "cells": [
  {
   "cell_type": "code",
   "execution_count": 14,
   "metadata": {},
   "outputs": [
    {
     "name": "stdout",
     "output_type": "stream",
     "text": [
      "*****\n",
      "*****\n",
      "*****\n",
      "*****\n",
      "*****\n",
      "*****\n",
      "*****\n",
      "*****\n",
      "*****\n"
     ]
    }
   ],
   "source": [
    "n = 5\n",
    "m = 9\n",
    "print(\"*\"*n)\n",
    "print(\"*\"*n)\n",
    "print(\"*\"*n)\n",
    "print(\"*\"*n)\n",
    "print(\"*\"*n)\n",
    "print(\"*\"*n)\n",
    "print(\"*\"*n)\n",
    "print(\"*\"*n)\n",
    "print(\"*\"*n)"
   ]
  },
  {
   "cell_type": "code",
   "execution_count": 15,
   "metadata": {},
   "outputs": [
    {
     "name": "stdout",
     "output_type": "stream",
     "text": [
      "87.75\n"
     ]
    }
   ],
   "source": [
    "student = {\"python\": 80, \"algorithm\": 99, \"django\": 89, \"flask\": 83}\n",
    "sum = 0\n",
    "for value in student.values():\n",
    "    sum += value\n",
    "result = sum/4\n",
    "print(result)"
   ]
  },
  {
   "cell_type": "code",
   "execution_count": 19,
   "metadata": {},
   "outputs": [
    {
     "name": "stdout",
     "output_type": "stream",
     "text": [
      "3 3 3 3\n"
     ]
    }
   ],
   "source": [
    "blood_types = [\"A\", \"B\", \"A\", \"O\", \"AB\", \"AB\", \"O\", \"A\", \"B\", \"O\", \"B\", \"AB\"]\n",
    "count_A = 0\n",
    "count_B = 0\n",
    "count_O = 0\n",
    "count_AB = 0\n",
    "for i in blood_types:\n",
    "    if i == \"A\":        \n",
    "        count_A += 1\n",
    "    elif i == \"B\":\n",
    "        count_B += 1\n",
    "    elif i == \"O\":\n",
    "        count_O += 1\n",
    "    else:\n",
    "        count_AB += 1\n",
    "        \n",
    "print(count_A, count_B, count_O, count_AB)"
   ]
  },
  {
   "cell_type": "code",
   "execution_count": null,
   "metadata": {},
   "outputs": [],
   "source": []
  }
 ],
 "metadata": {
  "kernelspec": {
   "display_name": "Python 3",
   "language": "python",
   "name": "python3"
  },
  "language_info": {
   "codemirror_mode": {
    "name": "ipython",
    "version": 3
   },
   "file_extension": ".py",
   "mimetype": "text/x-python",
   "name": "python",
   "nbconvert_exporter": "python",
   "pygments_lexer": "ipython3",
   "version": "3.6.7"
  }
 },
 "nbformat": 4,
 "nbformat_minor": 2
}
